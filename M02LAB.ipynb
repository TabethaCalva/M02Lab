{
 "cells": [
  {
   "cell_type": "markdown",
   "id": "c827b512-1c7e-4dfa-85a3-643038d4cbb7",
   "metadata": {},
   "source": [
    "Tabeha Calva\n",
    "GPA List\n",
    "GPA list takes the student's first name, last name, GPA, and determines if the student made the Dean's list, or Honor Roll."
   ]
  },
  {
   "cell_type": "code",
   "execution_count": 8,
   "id": "e19629c6-11f3-4c93-b807-565299ebcfa5",
   "metadata": {
    "tags": []
   },
   "outputs": [
    {
     "name": "stdin",
     "output_type": "stream",
     "text": [
      "Enter student's last name. lone\n",
      "Enter student's first name. fone\n",
      "Enter GPA 2\n",
      "Enter the next student's last name. ltwo\n",
      "Enter student's first name. ftwo\n",
      "Enter GPA 3\n",
      "Enter the next student's last name. lthree\n",
      "Enter student's first name. fthree\n",
      "Enter GPA 4\n"
     ]
    },
    {
     "name": "stdout",
     "output_type": "stream",
     "text": [
      "fthree lthree made the Dean's list.\n"
     ]
    },
    {
     "name": "stdin",
     "output_type": "stream",
     "text": [
      "Enter the next student's last name. lfour\n",
      "Enter student's first name. ffour\n",
      "Enter GPA 3.3\n"
     ]
    },
    {
     "name": "stdout",
     "output_type": "stream",
     "text": [
      "ffour lfour made the Honor Roll.\n"
     ]
    },
    {
     "name": "stdin",
     "output_type": "stream",
     "text": [
      "Enter the next student's last name. lfive\n",
      "Enter student's first name. ffive\n",
      "Enter GPA 2.5\n",
      "Enter the next student's last name. ZZZ\n"
     ]
    }
   ],
   "source": [
    "lname = input(\"Enter student's last name.\")\n",
    "while lname != \"ZZZ\":\n",
    "    fname = input(\"Enter student's first name.\")\n",
    "    GPA = float(input(\"Enter GPA\"))\n",
    "    if GPA >= 3.5:\n",
    "        print(fname,lname, \"made the Dean's list.\")\n",
    "    elif GPA >= 3.25:\n",
    "        print(fname,lname, \"made the Honor Roll.\")\n",
    "    lname = input(\"Enter the next student's last name.\")"
   ]
  }
 ],
 "metadata": {
  "kernelspec": {
   "display_name": "Python 3 (ipykernel)",
   "language": "python",
   "name": "python3"
  },
  "language_info": {
   "codemirror_mode": {
    "name": "ipython",
    "version": 3
   },
   "file_extension": ".py",
   "mimetype": "text/x-python",
   "name": "python",
   "nbconvert_exporter": "python",
   "pygments_lexer": "ipython3",
   "version": "3.11.5"
  }
 },
 "nbformat": 4,
 "nbformat_minor": 5
}
